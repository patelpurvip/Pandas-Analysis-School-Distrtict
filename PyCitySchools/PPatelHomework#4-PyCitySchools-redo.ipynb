{
 "cells": [
  {
   "cell_type": "markdown",
   "metadata": {},
   "source": [
    "# PPatel Homework #4 - Pandas(PyCitySchools) "
   ]
  },
  {
   "cell_type": "code",
   "execution_count": 1,
   "metadata": {},
   "outputs": [],
   "source": [
    "#DEPENDANCIES & SETUP-------------------------------------------------------------------------------------\n",
    "import pandas as pd\n",
    "import numpy as np\n",
    "\n",
    "school_data_to_load = \"schools_complete.csv\"\n",
    "student_data_to_load = \"students_complete.csv\"\n",
    "\n",
    "school_data = pd.read_csv(school_data_to_load)\n",
    "student_data = pd.read_csv(student_data_to_load)\n",
    "\n",
    "school_data_complete = pd.merge(student_data, school_data, how=\"left\", on=[\"school_name\", \"school_name\"])\n",
    "#school_data_complete.shape"
   ]
  },
  {
   "cell_type": "code",
   "execution_count": 2,
   "metadata": {
    "scrolled": true
   },
   "outputs": [
    {
     "output_type": "execute_result",
     "data": {
      "text/plain": "   Student ID       student_name gender grade        school_name  \\\n0           0       Paul Bradley      M   9th  Huang High School   \n1           1       Victor Smith      M  12th  Huang High School   \n2           2    Kevin Rodriguez      M  12th  Huang High School   \n3           3  Dr. Richard Scott      M  12th  Huang High School   \n4           4         Bonnie Ray      F   9th  Huang High School   \n\n   reading_score  math_score  School ID      type  size   budget  \n0             66          79          0  District  2917  1910635  \n1             94          61          0  District  2917  1910635  \n2             90          60          0  District  2917  1910635  \n3             67          58          0  District  2917  1910635  \n4             97          84          0  District  2917  1910635  ",
      "text/html": "<div>\n<style scoped>\n    .dataframe tbody tr th:only-of-type {\n        vertical-align: middle;\n    }\n\n    .dataframe tbody tr th {\n        vertical-align: top;\n    }\n\n    .dataframe thead th {\n        text-align: right;\n    }\n</style>\n<table border=\"1\" class=\"dataframe\">\n  <thead>\n    <tr style=\"text-align: right;\">\n      <th></th>\n      <th>Student ID</th>\n      <th>student_name</th>\n      <th>gender</th>\n      <th>grade</th>\n      <th>school_name</th>\n      <th>reading_score</th>\n      <th>math_score</th>\n      <th>School ID</th>\n      <th>type</th>\n      <th>size</th>\n      <th>budget</th>\n    </tr>\n  </thead>\n  <tbody>\n    <tr>\n      <td>0</td>\n      <td>0</td>\n      <td>Paul Bradley</td>\n      <td>M</td>\n      <td>9th</td>\n      <td>Huang High School</td>\n      <td>66</td>\n      <td>79</td>\n      <td>0</td>\n      <td>District</td>\n      <td>2917</td>\n      <td>1910635</td>\n    </tr>\n    <tr>\n      <td>1</td>\n      <td>1</td>\n      <td>Victor Smith</td>\n      <td>M</td>\n      <td>12th</td>\n      <td>Huang High School</td>\n      <td>94</td>\n      <td>61</td>\n      <td>0</td>\n      <td>District</td>\n      <td>2917</td>\n      <td>1910635</td>\n    </tr>\n    <tr>\n      <td>2</td>\n      <td>2</td>\n      <td>Kevin Rodriguez</td>\n      <td>M</td>\n      <td>12th</td>\n      <td>Huang High School</td>\n      <td>90</td>\n      <td>60</td>\n      <td>0</td>\n      <td>District</td>\n      <td>2917</td>\n      <td>1910635</td>\n    </tr>\n    <tr>\n      <td>3</td>\n      <td>3</td>\n      <td>Dr. Richard Scott</td>\n      <td>M</td>\n      <td>12th</td>\n      <td>Huang High School</td>\n      <td>67</td>\n      <td>58</td>\n      <td>0</td>\n      <td>District</td>\n      <td>2917</td>\n      <td>1910635</td>\n    </tr>\n    <tr>\n      <td>4</td>\n      <td>4</td>\n      <td>Bonnie Ray</td>\n      <td>F</td>\n      <td>9th</td>\n      <td>Huang High School</td>\n      <td>97</td>\n      <td>84</td>\n      <td>0</td>\n      <td>District</td>\n      <td>2917</td>\n      <td>1910635</td>\n    </tr>\n  </tbody>\n</table>\n</div>"
     },
     "metadata": {},
     "execution_count": 2
    }
   ],
   "source": [
    "school_data_complete.head()"
   ]
  },
  {
   "cell_type": "markdown",
   "metadata": {},
   "source": [
    "# District Summary"
   ]
  },
  {
   "cell_type": "code",
   "execution_count": 3,
   "metadata": {},
   "outputs": [
    {
     "output_type": "execute_result",
     "data": {
      "text/plain": "   Total Schools Total Students    Total Budget Average Math Score  \\\n0             15         39,170  $24,649,428.00              78.99   \n\n  Average Reading Score % Passing Math % Passing Reading Overall Passing Rate  \n0                 81.88         74.98%            85.81%               80.43%  ",
      "text/html": "<div>\n<style scoped>\n    .dataframe tbody tr th:only-of-type {\n        vertical-align: middle;\n    }\n\n    .dataframe tbody tr th {\n        vertical-align: top;\n    }\n\n    .dataframe thead th {\n        text-align: right;\n    }\n</style>\n<table border=\"1\" class=\"dataframe\">\n  <thead>\n    <tr style=\"text-align: right;\">\n      <th></th>\n      <th>Total Schools</th>\n      <th>Total Students</th>\n      <th>Total Budget</th>\n      <th>Average Math Score</th>\n      <th>Average Reading Score</th>\n      <th>% Passing Math</th>\n      <th>% Passing Reading</th>\n      <th>Overall Passing Rate</th>\n    </tr>\n  </thead>\n  <tbody>\n    <tr>\n      <td>0</td>\n      <td>15</td>\n      <td>39,170</td>\n      <td>$24,649,428.00</td>\n      <td>78.99</td>\n      <td>81.88</td>\n      <td>74.98%</td>\n      <td>85.81%</td>\n      <td>80.43%</td>\n    </tr>\n  </tbody>\n</table>\n</div>"
     },
     "metadata": {},
     "execution_count": 3
    }
   ],
   "source": [
    "total_schools = len(school_data_complete[\"school_name\"].unique())\n",
    "total_students = len(school_data_complete[\"student_name\"])\n",
    "school_budgets = sum(school_data_complete[\"budget\"].unique())\n",
    "\n",
    "math_data = school_data_complete[\"math_score\"]\n",
    "reading_data = school_data_complete[\"reading_score\"]\n",
    "passing_math = school_data_complete.loc[school_data_complete[\"math_score\"] >= 70]\n",
    "passing_reading = school_data_complete.loc[school_data_complete[\"reading_score\"] >= 70]\n",
    "\n",
    "ave_math = math_data.mean()\n",
    "ave_reading = reading_data.mean()\n",
    "overall_passing_rate = (ave_math+ave_reading)/2\n",
    "percent_passing_math = (len(passing_math)/total_students)*100\n",
    "percent_passing_reading = (len(passing_reading)/total_students)*100\n",
    "\n",
    "#BUILD DATAFRAME----------------------------------------------------------------------------------------\n",
    "district_summary = pd.DataFrame({\"Total Schools\":[total_schools],\n",
    "                               \"Total Students\":[total_students],\n",
    "                               \"Total Budget\":[school_budgets],\n",
    "                               \"Average Math Score\":[ave_math],\n",
    "                               \"Average Reading Score\":[ave_reading],\n",
    "                               \"% Passing Math\":[percent_passing_math],\n",
    "                               \"% Passing Reading\":[percent_passing_reading],\n",
    "                               \"Overall Passing Rate\":[overall_passing_rate]})\n",
    "\n",
    "# LONG FORM FORMATING, DATAFRAME COLUMNS----------------------------------------------------------------\n",
    "district_summary[\"Total Students\"] = district_summary[\"Total Students\"].map(\"{:,}\".format)\n",
    "district_summary[\"Total Budget\"] = district_summary[\"Total Budget\"].map(\"${:,.2f}\".format)\n",
    "district_summary[\"Average Math Score\"] = district_summary[\"Average Math Score\"].map(\"{:.2f}\".format)\n",
    "district_summary[\"Average Reading Score\"] = district_summary[\"Average Reading Score\"].map(\"{:.2f}\".format)\n",
    "district_summary[\"% Passing Math\"] = district_summary[\"% Passing Math\"].map(\"{:.2f}%\".format)\n",
    "district_summary[\"% Passing Reading\"] = district_summary[\"% Passing Reading\"].map(\"{:.2f}%\".format)\n",
    "district_summary[\"Overall Passing Rate\"] = district_summary[\"Overall Passing Rate\"].map(\"{:.2f}%\".format)\n",
    "\n",
    "#PRINT FINAL DATAFRAME-----------------------------------------------------------------------------------\n",
    "district_summary.head()"
   ]
  },
  {
   "cell_type": "markdown",
   "metadata": {},
   "source": [
    "# Summary by School"
   ]
  },
  {
   "cell_type": "code",
   "execution_count": 7,
   "metadata": {},
   "outputs": [
    {
     "output_type": "execute_result",
     "data": {
      "text/plain": "                      School Type  Total Students Total School Budget  \\\nBailey High School     [District]            4976          $3,124,928   \nCabrera High School     [Charter]            1858          $1,081,356   \nFigueroa High School   [District]            2949          $1,884,411   \nFord High School       [District]            2739          $1,763,916   \nGriffin High School     [Charter]            1468            $917,500   \nHernandez High School  [District]            4635          $3,022,020   \nHolden High School      [Charter]             427            $248,087   \nHuang High School      [District]            2917          $1,910,635   \nJohnson High School    [District]            4761          $3,094,650   \nPena High School        [Charter]             962            $585,858   \nRodriguez High School  [District]            3999          $2,547,363   \nShelton High School     [Charter]            1761          $1,056,600   \nThomas High School      [Charter]            1635          $1,043,130   \nWilson High School      [Charter]            2283          $1,319,574   \nWright High School      [Charter]            1800          $1,049,400   \n\n                      Budget per Student Average Math Score  \\\nBailey High School               $628.00              77.05   \nCabrera High School              $582.00              83.06   \nFigueroa High School             $639.00              76.71   \nFord High School                 $644.00              77.10   \nGriffin High School              $625.00              83.35   \nHernandez High School            $652.00              77.29   \nHolden High School               $581.00              83.80   \nHuang High School                $655.00              76.63   \nJohnson High School              $650.00              77.07   \nPena High School                 $609.00              83.84   \nRodriguez High School            $637.00              76.84   \nShelton High School              $600.00              83.36   \nThomas High School               $638.00              83.42   \nWilson High School               $578.00              83.27   \nWright High School               $583.00              83.68   \n\n                      Average Reading Score % Passing Math % Passing Reading  \\\nBailey High School                    81.03         66.68%            81.93%   \nCabrera High School                   83.98         94.13%            97.04%   \nFigueroa High School                  81.16         65.99%            80.74%   \nFord High School                      80.75         68.31%            79.30%   \nGriffin High School                   83.82         93.39%            97.14%   \nHernandez High School                 80.93         66.75%            80.86%   \nHolden High School                    83.81         92.51%            96.25%   \nHuang High School                     81.18         65.68%            81.32%   \nJohnson High School                   80.97         66.06%            81.22%   \nPena High School                      84.04         94.59%            95.95%   \nRodriguez High School                 80.74         66.37%            80.22%   \nShelton High School                   83.73         93.87%            95.85%   \nThomas High School                    83.85         93.27%            97.31%   \nWilson High School                    83.99         93.87%            96.54%   \nWright High School                    83.95         93.33%            96.61%   \n\n                      % Overall Pass Rate  \nBailey High School                 74.31%  \nCabrera High School                95.59%  \nFigueroa High School               73.36%  \nFord High School                   73.80%  \nGriffin High School                95.27%  \nHernandez High School              73.81%  \nHolden High School                 94.38%  \nHuang High School                  73.50%  \nJohnson High School                73.64%  \nPena High School                   95.27%  \nRodriguez High School              73.29%  \nShelton High School                94.86%  \nThomas High School                 95.29%  \nWilson High School                 95.20%  \nWright High School                 94.97%  ",
      "text/html": "<div>\n<style scoped>\n    .dataframe tbody tr th:only-of-type {\n        vertical-align: middle;\n    }\n\n    .dataframe tbody tr th {\n        vertical-align: top;\n    }\n\n    .dataframe thead th {\n        text-align: right;\n    }\n</style>\n<table border=\"1\" class=\"dataframe\">\n  <thead>\n    <tr style=\"text-align: right;\">\n      <th></th>\n      <th>School Type</th>\n      <th>Total Students</th>\n      <th>Total School Budget</th>\n      <th>Budget per Student</th>\n      <th>Average Math Score</th>\n      <th>Average Reading Score</th>\n      <th>% Passing Math</th>\n      <th>% Passing Reading</th>\n      <th>% Overall Pass Rate</th>\n    </tr>\n  </thead>\n  <tbody>\n    <tr>\n      <td>Bailey High School</td>\n      <td>[District]</td>\n      <td>4976</td>\n      <td>$3,124,928</td>\n      <td>$628.00</td>\n      <td>77.05</td>\n      <td>81.03</td>\n      <td>66.68%</td>\n      <td>81.93%</td>\n      <td>74.31%</td>\n    </tr>\n    <tr>\n      <td>Cabrera High School</td>\n      <td>[Charter]</td>\n      <td>1858</td>\n      <td>$1,081,356</td>\n      <td>$582.00</td>\n      <td>83.06</td>\n      <td>83.98</td>\n      <td>94.13%</td>\n      <td>97.04%</td>\n      <td>95.59%</td>\n    </tr>\n    <tr>\n      <td>Figueroa High School</td>\n      <td>[District]</td>\n      <td>2949</td>\n      <td>$1,884,411</td>\n      <td>$639.00</td>\n      <td>76.71</td>\n      <td>81.16</td>\n      <td>65.99%</td>\n      <td>80.74%</td>\n      <td>73.36%</td>\n    </tr>\n    <tr>\n      <td>Ford High School</td>\n      <td>[District]</td>\n      <td>2739</td>\n      <td>$1,763,916</td>\n      <td>$644.00</td>\n      <td>77.10</td>\n      <td>80.75</td>\n      <td>68.31%</td>\n      <td>79.30%</td>\n      <td>73.80%</td>\n    </tr>\n    <tr>\n      <td>Griffin High School</td>\n      <td>[Charter]</td>\n      <td>1468</td>\n      <td>$917,500</td>\n      <td>$625.00</td>\n      <td>83.35</td>\n      <td>83.82</td>\n      <td>93.39%</td>\n      <td>97.14%</td>\n      <td>95.27%</td>\n    </tr>\n    <tr>\n      <td>Hernandez High School</td>\n      <td>[District]</td>\n      <td>4635</td>\n      <td>$3,022,020</td>\n      <td>$652.00</td>\n      <td>77.29</td>\n      <td>80.93</td>\n      <td>66.75%</td>\n      <td>80.86%</td>\n      <td>73.81%</td>\n    </tr>\n    <tr>\n      <td>Holden High School</td>\n      <td>[Charter]</td>\n      <td>427</td>\n      <td>$248,087</td>\n      <td>$581.00</td>\n      <td>83.80</td>\n      <td>83.81</td>\n      <td>92.51%</td>\n      <td>96.25%</td>\n      <td>94.38%</td>\n    </tr>\n    <tr>\n      <td>Huang High School</td>\n      <td>[District]</td>\n      <td>2917</td>\n      <td>$1,910,635</td>\n      <td>$655.00</td>\n      <td>76.63</td>\n      <td>81.18</td>\n      <td>65.68%</td>\n      <td>81.32%</td>\n      <td>73.50%</td>\n    </tr>\n    <tr>\n      <td>Johnson High School</td>\n      <td>[District]</td>\n      <td>4761</td>\n      <td>$3,094,650</td>\n      <td>$650.00</td>\n      <td>77.07</td>\n      <td>80.97</td>\n      <td>66.06%</td>\n      <td>81.22%</td>\n      <td>73.64%</td>\n    </tr>\n    <tr>\n      <td>Pena High School</td>\n      <td>[Charter]</td>\n      <td>962</td>\n      <td>$585,858</td>\n      <td>$609.00</td>\n      <td>83.84</td>\n      <td>84.04</td>\n      <td>94.59%</td>\n      <td>95.95%</td>\n      <td>95.27%</td>\n    </tr>\n    <tr>\n      <td>Rodriguez High School</td>\n      <td>[District]</td>\n      <td>3999</td>\n      <td>$2,547,363</td>\n      <td>$637.00</td>\n      <td>76.84</td>\n      <td>80.74</td>\n      <td>66.37%</td>\n      <td>80.22%</td>\n      <td>73.29%</td>\n    </tr>\n    <tr>\n      <td>Shelton High School</td>\n      <td>[Charter]</td>\n      <td>1761</td>\n      <td>$1,056,600</td>\n      <td>$600.00</td>\n      <td>83.36</td>\n      <td>83.73</td>\n      <td>93.87%</td>\n      <td>95.85%</td>\n      <td>94.86%</td>\n    </tr>\n    <tr>\n      <td>Thomas High School</td>\n      <td>[Charter]</td>\n      <td>1635</td>\n      <td>$1,043,130</td>\n      <td>$638.00</td>\n      <td>83.42</td>\n      <td>83.85</td>\n      <td>93.27%</td>\n      <td>97.31%</td>\n      <td>95.29%</td>\n    </tr>\n    <tr>\n      <td>Wilson High School</td>\n      <td>[Charter]</td>\n      <td>2283</td>\n      <td>$1,319,574</td>\n      <td>$578.00</td>\n      <td>83.27</td>\n      <td>83.99</td>\n      <td>93.87%</td>\n      <td>96.54%</td>\n      <td>95.20%</td>\n    </tr>\n    <tr>\n      <td>Wright High School</td>\n      <td>[Charter]</td>\n      <td>1800</td>\n      <td>$1,049,400</td>\n      <td>$583.00</td>\n      <td>83.68</td>\n      <td>83.95</td>\n      <td>93.33%</td>\n      <td>96.61%</td>\n      <td>94.97%</td>\n    </tr>\n  </tbody>\n</table>\n</div>"
     },
     "metadata": {},
     "execution_count": 7
    }
   ],
   "source": [
    "#SET NEW INDEX-----------------------------------------------------------------------------------------\n",
    "school_data_complete.columns = ['Student ID', 'student_name', 'gender', 'grade', 'School Name', 'reading_score', 'math_score', 'School ID', 'School Type', 'size', 'budget']\n",
    "data_by_schools = school_data_complete.set_index(['School Name'])\n",
    "\n",
    "#CALCULATE VARIABLES-----------------------------------------------------------------------------------\n",
    "schools_grouped = data_by_schools.groupby([\"School Name\"])\n",
    "school_types = schools_grouped['School Type'].unique()\n",
    "students_per_school = schools_grouped[\"Student ID\"].count()\n",
    "school_budgets = schools_grouped[\"budget\"].mean()\n",
    "budget_per_student = school_budgets/students_per_school\n",
    "ave_math_by_school = schools_grouped['math_score'].mean()\n",
    "ave_reading_by_school = schools_grouped['reading_score'].mean()\n",
    "\n",
    "passing_math_grouped = passing_math.groupby([\"school_name\"])\n",
    "total_passing_math_by_school = passing_math_grouped[\"math_score\"].count()\n",
    "percent_passing_math_by_school = total_passing_math_by_school/students_per_school\n",
    "\n",
    "passing_reading_grouped = passing_reading.groupby([\"school_name\"])\n",
    "total_passing_reading_by_school = passing_reading_grouped[\"reading_score\"].count()\n",
    "percent_passing_reading_by_school = total_passing_reading_by_school/students_per_school\n",
    "\n",
    "OPR_by_school = (percent_passing_math_by_school+percent_passing_reading_by_school)/2\n",
    "\n",
    "#BUILD DATAFRAME & FORMAT DATAFRAME COLUMNS-------------------------------------------------------------\n",
    "###CANNOT figure out how to format Types variable in the DF to not show up as a list\n",
    "summary_by_school = pd.DataFrame({\"School Type\": school_types,\n",
    "                            \"Total Students\": students_per_school,\n",
    "                            \"Total School Budget\": school_budgets.map(\"${:,}\".format),\n",
    "                            \"Budget per Student\": budget_per_student.map(\"${:,.2f}\".format),\n",
    "                            \"Average Math Score\": ave_math_by_school.map(\"{:.2f}\".format),\n",
    "                            \"Average Reading Score\": ave_reading_by_school.map(\"{:.2f}\".format),\n",
    "                            \"% Passing Math\":(percent_passing_math_by_school*100).map(\"{:.2f}%\".format),\n",
    "                            \"% Passing Reading\":(percent_passing_reading_by_school*100).map(\"{:.2f}%\".format),\n",
    "                            \"% Overall Pass Rate\":(OPR_by_school*100).map(\"{:.2f}%\".format)})\n",
    "\n",
    "summary_by_school"
   ]
  },
  {
   "cell_type": "markdown",
   "metadata": {},
   "source": [
    "# Top Performing Schools (by Passing Rate)"
   ]
  },
  {
   "cell_type": "code",
   "execution_count": 8,
   "metadata": {
    "scrolled": true
   },
   "outputs": [
    {
     "output_type": "execute_result",
     "data": {
      "text/plain": "                    School Type  Total Students Total School Budget  \\\nCabrera High School   [Charter]            1858          $1,081,356   \nThomas High School    [Charter]            1635          $1,043,130   \nGriffin High School   [Charter]            1468            $917,500   \nPena High School      [Charter]             962            $585,858   \nWilson High School    [Charter]            2283          $1,319,574   \n\n                    Budget per Student Average Math Score  \\\nCabrera High School            $582.00              83.06   \nThomas High School             $638.00              83.42   \nGriffin High School            $625.00              83.35   \nPena High School               $609.00              83.84   \nWilson High School             $578.00              83.27   \n\n                    Average Reading Score % Passing Math % Passing Reading  \\\nCabrera High School                 83.98         94.13%            97.04%   \nThomas High School                  83.85         93.27%            97.31%   \nGriffin High School                 83.82         93.39%            97.14%   \nPena High School                    84.04         94.59%            95.95%   \nWilson High School                  83.99         93.87%            96.54%   \n\n                    % Overall Pass Rate  \nCabrera High School              95.59%  \nThomas High School               95.29%  \nGriffin High School              95.27%  \nPena High School                 95.27%  \nWilson High School               95.20%  ",
      "text/html": "<div>\n<style scoped>\n    .dataframe tbody tr th:only-of-type {\n        vertical-align: middle;\n    }\n\n    .dataframe tbody tr th {\n        vertical-align: top;\n    }\n\n    .dataframe thead th {\n        text-align: right;\n    }\n</style>\n<table border=\"1\" class=\"dataframe\">\n  <thead>\n    <tr style=\"text-align: right;\">\n      <th></th>\n      <th>School Type</th>\n      <th>Total Students</th>\n      <th>Total School Budget</th>\n      <th>Budget per Student</th>\n      <th>Average Math Score</th>\n      <th>Average Reading Score</th>\n      <th>% Passing Math</th>\n      <th>% Passing Reading</th>\n      <th>% Overall Pass Rate</th>\n    </tr>\n  </thead>\n  <tbody>\n    <tr>\n      <td>Cabrera High School</td>\n      <td>[Charter]</td>\n      <td>1858</td>\n      <td>$1,081,356</td>\n      <td>$582.00</td>\n      <td>83.06</td>\n      <td>83.98</td>\n      <td>94.13%</td>\n      <td>97.04%</td>\n      <td>95.59%</td>\n    </tr>\n    <tr>\n      <td>Thomas High School</td>\n      <td>[Charter]</td>\n      <td>1635</td>\n      <td>$1,043,130</td>\n      <td>$638.00</td>\n      <td>83.42</td>\n      <td>83.85</td>\n      <td>93.27%</td>\n      <td>97.31%</td>\n      <td>95.29%</td>\n    </tr>\n    <tr>\n      <td>Griffin High School</td>\n      <td>[Charter]</td>\n      <td>1468</td>\n      <td>$917,500</td>\n      <td>$625.00</td>\n      <td>83.35</td>\n      <td>83.82</td>\n      <td>93.39%</td>\n      <td>97.14%</td>\n      <td>95.27%</td>\n    </tr>\n    <tr>\n      <td>Pena High School</td>\n      <td>[Charter]</td>\n      <td>962</td>\n      <td>$585,858</td>\n      <td>$609.00</td>\n      <td>83.84</td>\n      <td>84.04</td>\n      <td>94.59%</td>\n      <td>95.95%</td>\n      <td>95.27%</td>\n    </tr>\n    <tr>\n      <td>Wilson High School</td>\n      <td>[Charter]</td>\n      <td>2283</td>\n      <td>$1,319,574</td>\n      <td>$578.00</td>\n      <td>83.27</td>\n      <td>83.99</td>\n      <td>93.87%</td>\n      <td>96.54%</td>\n      <td>95.20%</td>\n    </tr>\n  </tbody>\n</table>\n</div>"
     },
     "metadata": {},
     "execution_count": 8
    }
   ],
   "source": [
    "school_OPR_descending = summary_by_school.sort_values(\"% Overall Pass Rate\", ascending=False)\n",
    "top_five_OPR = school_OPR_descending.head(5)\n",
    "top_five_OPR"
   ]
  },
  {
   "cell_type": "markdown",
   "metadata": {},
   "source": [
    "# Bottoming Performing Schools (by Passing Rate)"
   ]
  },
  {
   "cell_type": "code",
   "execution_count": 9,
   "metadata": {},
   "outputs": [
    {
     "output_type": "execute_result",
     "data": {
      "text/plain": "                      School Type  Total Students Total School Budget  \\\nRodriguez High School  [District]            3999          $2,547,363   \nFigueroa High School   [District]            2949          $1,884,411   \nHuang High School      [District]            2917          $1,910,635   \nJohnson High School    [District]            4761          $3,094,650   \nFord High School       [District]            2739          $1,763,916   \n\n                      Budget per Student Average Math Score  \\\nRodriguez High School            $637.00              76.84   \nFigueroa High School             $639.00              76.71   \nHuang High School                $655.00              76.63   \nJohnson High School              $650.00              77.07   \nFord High School                 $644.00              77.10   \n\n                      Average Reading Score % Passing Math % Passing Reading  \\\nRodriguez High School                 80.74         66.37%            80.22%   \nFigueroa High School                  81.16         65.99%            80.74%   \nHuang High School                     81.18         65.68%            81.32%   \nJohnson High School                   80.97         66.06%            81.22%   \nFord High School                      80.75         68.31%            79.30%   \n\n                      % Overall Pass Rate  \nRodriguez High School              73.29%  \nFigueroa High School               73.36%  \nHuang High School                  73.50%  \nJohnson High School                73.64%  \nFord High School                   73.80%  ",
      "text/html": "<div>\n<style scoped>\n    .dataframe tbody tr th:only-of-type {\n        vertical-align: middle;\n    }\n\n    .dataframe tbody tr th {\n        vertical-align: top;\n    }\n\n    .dataframe thead th {\n        text-align: right;\n    }\n</style>\n<table border=\"1\" class=\"dataframe\">\n  <thead>\n    <tr style=\"text-align: right;\">\n      <th></th>\n      <th>School Type</th>\n      <th>Total Students</th>\n      <th>Total School Budget</th>\n      <th>Budget per Student</th>\n      <th>Average Math Score</th>\n      <th>Average Reading Score</th>\n      <th>% Passing Math</th>\n      <th>% Passing Reading</th>\n      <th>% Overall Pass Rate</th>\n    </tr>\n  </thead>\n  <tbody>\n    <tr>\n      <td>Rodriguez High School</td>\n      <td>[District]</td>\n      <td>3999</td>\n      <td>$2,547,363</td>\n      <td>$637.00</td>\n      <td>76.84</td>\n      <td>80.74</td>\n      <td>66.37%</td>\n      <td>80.22%</td>\n      <td>73.29%</td>\n    </tr>\n    <tr>\n      <td>Figueroa High School</td>\n      <td>[District]</td>\n      <td>2949</td>\n      <td>$1,884,411</td>\n      <td>$639.00</td>\n      <td>76.71</td>\n      <td>81.16</td>\n      <td>65.99%</td>\n      <td>80.74%</td>\n      <td>73.36%</td>\n    </tr>\n    <tr>\n      <td>Huang High School</td>\n      <td>[District]</td>\n      <td>2917</td>\n      <td>$1,910,635</td>\n      <td>$655.00</td>\n      <td>76.63</td>\n      <td>81.18</td>\n      <td>65.68%</td>\n      <td>81.32%</td>\n      <td>73.50%</td>\n    </tr>\n    <tr>\n      <td>Johnson High School</td>\n      <td>[District]</td>\n      <td>4761</td>\n      <td>$3,094,650</td>\n      <td>$650.00</td>\n      <td>77.07</td>\n      <td>80.97</td>\n      <td>66.06%</td>\n      <td>81.22%</td>\n      <td>73.64%</td>\n    </tr>\n    <tr>\n      <td>Ford High School</td>\n      <td>[District]</td>\n      <td>2739</td>\n      <td>$1,763,916</td>\n      <td>$644.00</td>\n      <td>77.10</td>\n      <td>80.75</td>\n      <td>68.31%</td>\n      <td>79.30%</td>\n      <td>73.80%</td>\n    </tr>\n  </tbody>\n</table>\n</div>"
     },
     "metadata": {},
     "execution_count": 9
    }
   ],
   "source": [
    "school_OPR_ascending = summary_by_school.sort_values(\"% Overall Pass Rate\")\n",
    "bottom_five_OPR = school_OPR_ascending.head(5)\n",
    "bottom_five_OPR"
   ]
  },
  {
   "cell_type": "markdown",
   "metadata": {},
   "source": [
    "# School Breakdown: Average Math Scores by Grade"
   ]
  },
  {
   "cell_type": "code",
   "execution_count": 11,
   "metadata": {},
   "outputs": [
    {
     "output_type": "execute_result",
     "data": {
      "text/plain": "                      9th Grade 10th Grade 11th Grade 12th Grade\nSchool Name                                                     \nBailey High School        77.08      77.00      77.52      76.49\nCabrera High School       83.09      83.15      82.77      83.28\nFigueroa High School      76.40      76.54      76.88      77.15\nFord High School          77.36      77.67      76.92      76.18\nGriffin High School       82.04      84.23      83.84      83.36\nHernandez High School     77.44      77.34      77.14      77.19\nHolden High School        83.79      83.43      85.00      82.86\nHuang High School         77.03      75.91      76.45      77.23\nJohnson High School       77.19      76.69      77.49      76.86\nPena High School          83.63      83.37      84.33      84.12\nRodriguez High School     76.86      76.61      76.40      77.69\nShelton High School       83.42      82.92      83.38      83.78\nThomas High School        83.59      83.09      83.50      83.50\nWilson High School        83.09      83.72      83.20      83.04\nWright High School        83.26      84.01      83.84      83.64",
      "text/html": "<div>\n<style scoped>\n    .dataframe tbody tr th:only-of-type {\n        vertical-align: middle;\n    }\n\n    .dataframe tbody tr th {\n        vertical-align: top;\n    }\n\n    .dataframe thead th {\n        text-align: right;\n    }\n</style>\n<table border=\"1\" class=\"dataframe\">\n  <thead>\n    <tr style=\"text-align: right;\">\n      <th></th>\n      <th>9th Grade</th>\n      <th>10th Grade</th>\n      <th>11th Grade</th>\n      <th>12th Grade</th>\n    </tr>\n    <tr>\n      <th>School Name</th>\n      <th></th>\n      <th></th>\n      <th></th>\n      <th></th>\n    </tr>\n  </thead>\n  <tbody>\n    <tr>\n      <td>Bailey High School</td>\n      <td>77.08</td>\n      <td>77.00</td>\n      <td>77.52</td>\n      <td>76.49</td>\n    </tr>\n    <tr>\n      <td>Cabrera High School</td>\n      <td>83.09</td>\n      <td>83.15</td>\n      <td>82.77</td>\n      <td>83.28</td>\n    </tr>\n    <tr>\n      <td>Figueroa High School</td>\n      <td>76.40</td>\n      <td>76.54</td>\n      <td>76.88</td>\n      <td>77.15</td>\n    </tr>\n    <tr>\n      <td>Ford High School</td>\n      <td>77.36</td>\n      <td>77.67</td>\n      <td>76.92</td>\n      <td>76.18</td>\n    </tr>\n    <tr>\n      <td>Griffin High School</td>\n      <td>82.04</td>\n      <td>84.23</td>\n      <td>83.84</td>\n      <td>83.36</td>\n    </tr>\n    <tr>\n      <td>Hernandez High School</td>\n      <td>77.44</td>\n      <td>77.34</td>\n      <td>77.14</td>\n      <td>77.19</td>\n    </tr>\n    <tr>\n      <td>Holden High School</td>\n      <td>83.79</td>\n      <td>83.43</td>\n      <td>85.00</td>\n      <td>82.86</td>\n    </tr>\n    <tr>\n      <td>Huang High School</td>\n      <td>77.03</td>\n      <td>75.91</td>\n      <td>76.45</td>\n      <td>77.23</td>\n    </tr>\n    <tr>\n      <td>Johnson High School</td>\n      <td>77.19</td>\n      <td>76.69</td>\n      <td>77.49</td>\n      <td>76.86</td>\n    </tr>\n    <tr>\n      <td>Pena High School</td>\n      <td>83.63</td>\n      <td>83.37</td>\n      <td>84.33</td>\n      <td>84.12</td>\n    </tr>\n    <tr>\n      <td>Rodriguez High School</td>\n      <td>76.86</td>\n      <td>76.61</td>\n      <td>76.40</td>\n      <td>77.69</td>\n    </tr>\n    <tr>\n      <td>Shelton High School</td>\n      <td>83.42</td>\n      <td>82.92</td>\n      <td>83.38</td>\n      <td>83.78</td>\n    </tr>\n    <tr>\n      <td>Thomas High School</td>\n      <td>83.59</td>\n      <td>83.09</td>\n      <td>83.50</td>\n      <td>83.50</td>\n    </tr>\n    <tr>\n      <td>Wilson High School</td>\n      <td>83.09</td>\n      <td>83.72</td>\n      <td>83.20</td>\n      <td>83.04</td>\n    </tr>\n    <tr>\n      <td>Wright High School</td>\n      <td>83.26</td>\n      <td>84.01</td>\n      <td>83.84</td>\n      <td>83.64</td>\n    </tr>\n  </tbody>\n</table>\n</div>"
     },
     "metadata": {},
     "execution_count": 11
    }
   ],
   "source": [
    "#CALCULATE VARIABLES-----------------------------------------------------------------------------------\n",
    "ninth_grade_data = school_data_complete.loc[school_data_complete[\"grade\"] == \"9th\"]\n",
    "ninthgrouped = ninth_grade_data.groupby([\"School Name\"])\n",
    "ninthmath_by_school = ninthgrouped[\"math_score\"].mean()\n",
    "#print(ninthmath_by_school)\n",
    "\n",
    "tenth_grade_data = school_data_complete.loc[school_data_complete[\"grade\"] == \"10th\"]\n",
    "tenthgrouped = tenth_grade_data.groupby([\"School Name\"])\n",
    "tenthmath_by_school = tenthgrouped[\"math_score\"].mean()\n",
    "\n",
    "eleventh_grade_data = school_data_complete.loc[school_data_complete[\"grade\"] == \"11th\"]\n",
    "eleventhgrouped = eleventh_grade_data.groupby([\"School Name\"])\n",
    "eleventhmath_by_school = eleventhgrouped[\"math_score\"].mean()\n",
    "\n",
    "twelfth_grade_data = school_data_complete.loc[school_data_complete[\"grade\"] == \"12th\"]\n",
    "twelfthgrouped = twelfth_grade_data.groupby([\"School Name\"])\n",
    "twelfthmath_by_school = twelfthgrouped[\"math_score\"].mean()\n",
    "\n",
    "#BUILD DATAFRAME & FORMAT DATAFRAME COLUMNS------------------------------------------------------------\n",
    "SchoolMath_by_grade = pd.DataFrame({\"9th Grade\": ninthmath_by_school.map(\"{:.2f}\".format),\n",
    "                        \"10th Grade\": tenthmath_by_school.map(\"{:.2f}\".format),\n",
    "                        \"11th Grade\": eleventhmath_by_school.map(\"{:.2f}\".format),\n",
    "                        \"12th Grade\": twelfthmath_by_school.map(\"{:.2f}\".format)})\n",
    "\n",
    "SchoolMath_by_grade"
   ]
  },
  {
   "cell_type": "markdown",
   "metadata": {},
   "source": [
    "# School Breakdown: Average Reading Scores by Grade"
   ]
  },
  {
   "cell_type": "code",
   "execution_count": 13,
   "metadata": {},
   "outputs": [
    {
     "output_type": "execute_result",
     "data": {
      "text/plain": "                      9th Grade 10th Grade 11th Grade 12th Grade\nSchool Name                                                     \nBailey High School        81.30      80.91      80.95      80.91\nCabrera High School       83.68      84.25      83.79      84.29\nFigueroa High School      81.20      81.41      80.64      81.38\nFord High School          80.63      81.26      80.40      80.66\nGriffin High School       83.37      83.71      84.29      84.01\nHernandez High School     80.87      80.66      81.40      80.86\nHolden High School        83.68      83.32      83.82      84.70\nHuang High School         81.29      81.51      81.42      80.31\nJohnson High School       81.26      80.77      80.62      81.23\nPena High School          83.81      83.61      84.34      84.59\nRodriguez High School     80.99      80.63      80.86      80.38\nShelton High School       84.12      83.44      84.37      82.78\nThomas High School        83.73      84.25      83.59      83.83\nWilson High School        83.94      84.02      83.76      84.32\nWright High School        83.83      83.81      84.16      84.07",
      "text/html": "<div>\n<style scoped>\n    .dataframe tbody tr th:only-of-type {\n        vertical-align: middle;\n    }\n\n    .dataframe tbody tr th {\n        vertical-align: top;\n    }\n\n    .dataframe thead th {\n        text-align: right;\n    }\n</style>\n<table border=\"1\" class=\"dataframe\">\n  <thead>\n    <tr style=\"text-align: right;\">\n      <th></th>\n      <th>9th Grade</th>\n      <th>10th Grade</th>\n      <th>11th Grade</th>\n      <th>12th Grade</th>\n    </tr>\n    <tr>\n      <th>School Name</th>\n      <th></th>\n      <th></th>\n      <th></th>\n      <th></th>\n    </tr>\n  </thead>\n  <tbody>\n    <tr>\n      <td>Bailey High School</td>\n      <td>81.30</td>\n      <td>80.91</td>\n      <td>80.95</td>\n      <td>80.91</td>\n    </tr>\n    <tr>\n      <td>Cabrera High School</td>\n      <td>83.68</td>\n      <td>84.25</td>\n      <td>83.79</td>\n      <td>84.29</td>\n    </tr>\n    <tr>\n      <td>Figueroa High School</td>\n      <td>81.20</td>\n      <td>81.41</td>\n      <td>80.64</td>\n      <td>81.38</td>\n    </tr>\n    <tr>\n      <td>Ford High School</td>\n      <td>80.63</td>\n      <td>81.26</td>\n      <td>80.40</td>\n      <td>80.66</td>\n    </tr>\n    <tr>\n      <td>Griffin High School</td>\n      <td>83.37</td>\n      <td>83.71</td>\n      <td>84.29</td>\n      <td>84.01</td>\n    </tr>\n    <tr>\n      <td>Hernandez High School</td>\n      <td>80.87</td>\n      <td>80.66</td>\n      <td>81.40</td>\n      <td>80.86</td>\n    </tr>\n    <tr>\n      <td>Holden High School</td>\n      <td>83.68</td>\n      <td>83.32</td>\n      <td>83.82</td>\n      <td>84.70</td>\n    </tr>\n    <tr>\n      <td>Huang High School</td>\n      <td>81.29</td>\n      <td>81.51</td>\n      <td>81.42</td>\n      <td>80.31</td>\n    </tr>\n    <tr>\n      <td>Johnson High School</td>\n      <td>81.26</td>\n      <td>80.77</td>\n      <td>80.62</td>\n      <td>81.23</td>\n    </tr>\n    <tr>\n      <td>Pena High School</td>\n      <td>83.81</td>\n      <td>83.61</td>\n      <td>84.34</td>\n      <td>84.59</td>\n    </tr>\n    <tr>\n      <td>Rodriguez High School</td>\n      <td>80.99</td>\n      <td>80.63</td>\n      <td>80.86</td>\n      <td>80.38</td>\n    </tr>\n    <tr>\n      <td>Shelton High School</td>\n      <td>84.12</td>\n      <td>83.44</td>\n      <td>84.37</td>\n      <td>82.78</td>\n    </tr>\n    <tr>\n      <td>Thomas High School</td>\n      <td>83.73</td>\n      <td>84.25</td>\n      <td>83.59</td>\n      <td>83.83</td>\n    </tr>\n    <tr>\n      <td>Wilson High School</td>\n      <td>83.94</td>\n      <td>84.02</td>\n      <td>83.76</td>\n      <td>84.32</td>\n    </tr>\n    <tr>\n      <td>Wright High School</td>\n      <td>83.83</td>\n      <td>83.81</td>\n      <td>84.16</td>\n      <td>84.07</td>\n    </tr>\n  </tbody>\n</table>\n</div>"
     },
     "metadata": {},
     "execution_count": 13
    }
   ],
   "source": [
    "#CALCULATE VARIABLES-----------------------------------------------------------------------------------\n",
    "ninthreading_by_school = ninthgrouped[\"reading_score\"].mean()\n",
    "tenthreading_by_school = tenthgrouped[\"reading_score\"].mean()\n",
    "eleventhreading_by_school = eleventhgrouped[\"reading_score\"].mean()\n",
    "twelfthreading_by_school = twelfthgrouped[\"reading_score\"].mean()\n",
    "\n",
    "#BUILD DATAFRAME---------------------------------------------------------------------------------------\n",
    "SchoolReading_by_grade = pd.DataFrame({\"9th Grade\": ninthreading_by_school.map(\"{:.2f}\".format),\n",
    "                        \"10th Grade\": tenthreading_by_school.map(\"{:.2f}\".format),\n",
    "                        \"11th Grade\": eleventhreading_by_school.map(\"{:.2f}\".format),\n",
    "                        \"12th Grade\": twelfthreading_by_school.map(\"{:.2f}\".format)})\n",
    "\n",
    "SchoolReading_by_grade"
   ]
  },
  {
   "cell_type": "markdown",
   "metadata": {},
   "source": [
    "# Scores by School Spending"
   ]
  },
  {
   "cell_type": "code",
   "execution_count": 14,
   "metadata": {},
   "outputs": [
    {
     "output_type": "execute_result",
     "data": {
      "text/plain": "School Name\nBailey High School       628.0\nCabrera High School      582.0\nFigueroa High School     639.0\nFord High School         644.0\nGriffin High School      625.0\nHernandez High School    652.0\nHolden High School       581.0\nHuang High School        655.0\nJohnson High School      650.0\nPena High School         609.0\nRodriguez High School    637.0\nShelton High School      600.0\nThomas High School       638.0\nWilson High School       578.0\nWright High School       583.0\ndtype: float64"
     },
     "metadata": {},
     "execution_count": 14
    }
   ],
   "source": [
    "budget_per_student"
   ]
  },
  {
   "cell_type": "code",
   "execution_count": 19,
   "metadata": {
    "scrolled": true
   },
   "outputs": [
    {
     "output_type": "execute_result",
     "data": {
      "text/plain": "                Average Budget per Student Average Math Score  \\\nSpending Ranges                                                 \n<$585                              $583.00              83.80   \n$585-615                           $609.00              83.84   \n$615-645                           $644.00              83.42   \n$645-675                           $655.00              77.29   \n\n                Average Reading Score % Passing Math % Passing Reading  \\\nSpending Ranges                                                          \n<$585                           83.99         94.13%            97.04%   \n$585-615                        84.04         94.59%            95.95%   \n$615-645                        83.85         93.39%            97.31%   \n$645-675                        81.18         66.75%            81.32%   \n\n                % Overall Pass Rate  \nSpending Ranges                      \n<$585                        95.59%  \n$585-615                     95.27%  \n$615-645                     95.29%  \n$645-675                     73.81%  ",
      "text/html": "<div>\n<style scoped>\n    .dataframe tbody tr th:only-of-type {\n        vertical-align: middle;\n    }\n\n    .dataframe tbody tr th {\n        vertical-align: top;\n    }\n\n    .dataframe thead th {\n        text-align: right;\n    }\n</style>\n<table border=\"1\" class=\"dataframe\">\n  <thead>\n    <tr style=\"text-align: right;\">\n      <th></th>\n      <th>Average Budget per Student</th>\n      <th>Average Math Score</th>\n      <th>Average Reading Score</th>\n      <th>% Passing Math</th>\n      <th>% Passing Reading</th>\n      <th>% Overall Pass Rate</th>\n    </tr>\n    <tr>\n      <th>Spending Ranges</th>\n      <th></th>\n      <th></th>\n      <th></th>\n      <th></th>\n      <th></th>\n      <th></th>\n    </tr>\n  </thead>\n  <tbody>\n    <tr>\n      <td>&lt;$585</td>\n      <td>$583.00</td>\n      <td>83.80</td>\n      <td>83.99</td>\n      <td>94.13%</td>\n      <td>97.04%</td>\n      <td>95.59%</td>\n    </tr>\n    <tr>\n      <td>$585-615</td>\n      <td>$609.00</td>\n      <td>83.84</td>\n      <td>84.04</td>\n      <td>94.59%</td>\n      <td>95.95%</td>\n      <td>95.27%</td>\n    </tr>\n    <tr>\n      <td>$615-645</td>\n      <td>$644.00</td>\n      <td>83.42</td>\n      <td>83.85</td>\n      <td>93.39%</td>\n      <td>97.31%</td>\n      <td>95.29%</td>\n    </tr>\n    <tr>\n      <td>$645-675</td>\n      <td>$655.00</td>\n      <td>77.29</td>\n      <td>81.18</td>\n      <td>66.75%</td>\n      <td>81.32%</td>\n      <td>73.81%</td>\n    </tr>\n  </tbody>\n</table>\n</div>"
     },
     "metadata": {},
     "execution_count": 19
    }
   ],
   "source": [
    "school_summary_short = pd.DataFrame({\"Average Budget per Student\": budget_per_student,\n",
    "                            \"Average Math Score\": ave_math_by_school.map(\"{:.2f}\".format),\n",
    "                            \"Average Reading Score\": ave_reading_by_school.map(\"{:.2f}\".format),\n",
    "                            \"% Passing Math\":(percent_passing_math_by_school*100).map(\"{:.2f}%\".format),\n",
    "                            \"% Passing Reading\":(percent_passing_reading_by_school*100).map(\"{:.2f}%\".format),\n",
    "                            \"% Overall Pass Rate\":(OPR_by_school*100).map(\"{:.2f}%\".format)})\n",
    "\n",
    "# CREATE BINS------------------------------------------------------------------------------------------\n",
    "spending_bins = [0, 585, 615, 645, 675]\n",
    "group_names = [\"<$585\", \"$585-615\", \"$615-645\", \"$645-675\"]\n",
    "\n",
    "school_summary_short[\"Spending Ranges\"] = pd.cut(school_summary_short[\"Average Budget per Student\"], spending_bins, labels=group_names)\n",
    "scores_by_spending = school_summary_short.groupby(\"Spending Ranges\")\n",
    "\n",
    "school_summary_short[\"Average Budget per Student\"] = school_summary_short[\"Average Budget per Student\"].map(\"${:,.2f}\".format)\n",
    "scores_by_spending.max()"
   ]
  },
  {
   "cell_type": "markdown",
   "metadata": {},
   "source": [
    "# Scores by School Size"
   ]
  },
  {
   "cell_type": "code",
   "execution_count": 20,
   "metadata": {},
   "outputs": [
    {
     "output_type": "execute_result",
     "data": {
      "text/plain": "                    Total Students Average Math Score Average Reading Score  \\\nSize Ranges                                                                   \nSmall (<1000)                  962              83.84                 84.04   \nMedium (1000-2000)            1858              83.68                 83.98   \nLarge (2000-5000)             4976              83.27                 83.99   \n\n                   % Passing Math % Passing Reading % Overall Pass Rate  \nSize Ranges                                                              \nSmall (<1000)              94.59%            96.25%              95.27%  \nMedium (1000-2000)         94.13%            97.31%              95.59%  \nLarge (2000-5000)          93.87%            96.54%              95.20%  ",
      "text/html": "<div>\n<style scoped>\n    .dataframe tbody tr th:only-of-type {\n        vertical-align: middle;\n    }\n\n    .dataframe tbody tr th {\n        vertical-align: top;\n    }\n\n    .dataframe thead th {\n        text-align: right;\n    }\n</style>\n<table border=\"1\" class=\"dataframe\">\n  <thead>\n    <tr style=\"text-align: right;\">\n      <th></th>\n      <th>Total Students</th>\n      <th>Average Math Score</th>\n      <th>Average Reading Score</th>\n      <th>% Passing Math</th>\n      <th>% Passing Reading</th>\n      <th>% Overall Pass Rate</th>\n    </tr>\n    <tr>\n      <th>Size Ranges</th>\n      <th></th>\n      <th></th>\n      <th></th>\n      <th></th>\n      <th></th>\n      <th></th>\n    </tr>\n  </thead>\n  <tbody>\n    <tr>\n      <td>Small (&lt;1000)</td>\n      <td>962</td>\n      <td>83.84</td>\n      <td>84.04</td>\n      <td>94.59%</td>\n      <td>96.25%</td>\n      <td>95.27%</td>\n    </tr>\n    <tr>\n      <td>Medium (1000-2000)</td>\n      <td>1858</td>\n      <td>83.68</td>\n      <td>83.98</td>\n      <td>94.13%</td>\n      <td>97.31%</td>\n      <td>95.59%</td>\n    </tr>\n    <tr>\n      <td>Large (2000-5000)</td>\n      <td>4976</td>\n      <td>83.27</td>\n      <td>83.99</td>\n      <td>93.87%</td>\n      <td>96.54%</td>\n      <td>95.20%</td>\n    </tr>\n  </tbody>\n</table>\n</div>"
     },
     "metadata": {},
     "execution_count": 20
    }
   ],
   "source": [
    "#BUILD DATAFRAME---------------------------------------------------------------------------------------\n",
    "school_summary_short2 = pd.DataFrame({\"Total Students\": students_per_school,\n",
    "                            \"Average Math Score\": ave_math_by_school.map(\"{:.2f}\".format),\n",
    "                            \"Average Reading Score\": ave_reading_by_school.map(\"{:.2f}\".format),\n",
    "                            \"% Passing Math\":(percent_passing_math_by_school*100).map(\"{:.2f}%\".format),\n",
    "                            \"% Passing Reading\":(percent_passing_reading_by_school*100).map(\"{:.2f}%\".format),\n",
    "                            \"% Overall Pass Rate\":(OPR_by_school*100).map(\"{:.2f}%\".format)})\n",
    "\n",
    "# CREATE BINS------------------------------------------------------------------------------------------\n",
    "size_bins = [0, 1000, 2000, 5000]\n",
    "group_names2 = [\"Small (<1000)\", \"Medium (1000-2000)\", \"Large (2000-5000)\"]\n",
    "\n",
    "school_summary_short2[\"Size Ranges\"] = pd.cut(school_summary_short2[\"Total Students\"], size_bins, labels=group_names2)\n",
    "scores_by_size = school_summary_short2.groupby(\"Size Ranges\")\n",
    "\n",
    "scores_by_size.max()"
   ]
  },
  {
   "cell_type": "markdown",
   "metadata": {},
   "source": [
    "# Scores by School Type"
   ]
  },
  {
   "cell_type": "code",
   "execution_count": 21,
   "metadata": {},
   "outputs": [
    {
     "output_type": "execute_result",
     "data": {
      "text/plain": "          Total Students Average Math Score Average Reading Score  \\\nCharter            12194              83.41                 83.90   \nDistrict           26976              76.99                 80.96   \n\n         % Passing Math % Passing Reading % Overall Pass Rate  \nCharter          93.70%            96.65%              95.17%  \nDistrict         66.52%            80.91%              73.71%  ",
      "text/html": "<div>\n<style scoped>\n    .dataframe tbody tr th:only-of-type {\n        vertical-align: middle;\n    }\n\n    .dataframe tbody tr th {\n        vertical-align: top;\n    }\n\n    .dataframe thead th {\n        text-align: right;\n    }\n</style>\n<table border=\"1\" class=\"dataframe\">\n  <thead>\n    <tr style=\"text-align: right;\">\n      <th></th>\n      <th>Total Students</th>\n      <th>Average Math Score</th>\n      <th>Average Reading Score</th>\n      <th>% Passing Math</th>\n      <th>% Passing Reading</th>\n      <th>% Overall Pass Rate</th>\n    </tr>\n  </thead>\n  <tbody>\n    <tr>\n      <td>Charter</td>\n      <td>12194</td>\n      <td>83.41</td>\n      <td>83.90</td>\n      <td>93.70%</td>\n      <td>96.65%</td>\n      <td>95.17%</td>\n    </tr>\n    <tr>\n      <td>District</td>\n      <td>26976</td>\n      <td>76.99</td>\n      <td>80.96</td>\n      <td>66.52%</td>\n      <td>80.91%</td>\n      <td>73.71%</td>\n    </tr>\n  </tbody>\n</table>\n</div>"
     },
     "metadata": {},
     "execution_count": 21
    }
   ],
   "source": [
    "#CALCULATE VARIABLES FOR GROUPING BY SCHOOL TYPE---------------------------------------------------------\n",
    "types = school_data_complete.groupby([\"School Type\"])\n",
    "\n",
    "students_per_type = types[\"Student ID\"].count()\n",
    "ave_math_by_type = types[\"math_score\"].mean()\n",
    "ave_reading_by_type = types[\"reading_score\"].mean()\n",
    "\n",
    "mathpass_index = passing_math.set_index(['type'])\n",
    "mathpass_by_type = mathpass_index.groupby(['type'])\n",
    "total_mathpass_by_type = mathpass_by_type[\"math_score\"].count()\n",
    "percent_mathpass_by_type = total_mathpass_by_type/students_per_type\n",
    "\n",
    "readpass_index = passing_reading.set_index(['type'])\n",
    "readpass_by_type = readpass_index.groupby(['type'])\n",
    "total_readpass_by_type = readpass_by_type[\"math_score\"].count()\n",
    "percent_readpass_by_type = total_readpass_by_type/students_per_type\n",
    "\n",
    "OPR_by_type = (percent_mathpass_by_type+percent_readpass_by_type)/2\n",
    "\n",
    "#BUILD DATAFRAME----------------------------------------------------------------------------------------\n",
    "school_summary_short3 = pd.DataFrame({\"Total Students\": students_per_type,\n",
    "                                    \"Average Math Score\": ave_math_by_type.map(\"{:.2f}\".format),\n",
    "                                    \"Average Reading Score\": ave_reading_by_type.map(\"{:.2f}\".format),\n",
    "                                    \"% Passing Math\": (percent_mathpass_by_type*100).map(\"{:.2f}%\".format),\n",
    "                                    \"% Passing Reading\": (percent_readpass_by_type*100).map(\"{:.2f}%\".format),\n",
    "                                    \"% Overall Pass Rate\": (OPR_by_type*100).map(\"{:.2f}%\".format)})\n",
    "\n",
    "school_summary_short3"
   ]
  },
  {
   "cell_type": "code",
   "execution_count": null,
   "metadata": {},
   "outputs": [],
   "source": []
  }
 ],
 "metadata": {
  "kernelspec": {
   "display_name": "Python 3",
   "language": "python",
   "name": "python3"
  },
  "language_info": {
   "codemirror_mode": {
    "name": "ipython",
    "version": 3
   },
   "file_extension": ".py",
   "mimetype": "text/x-python",
   "name": "python",
   "nbconvert_exporter": "python",
   "pygments_lexer": "ipython3",
   "version": "3.7.4-final"
  }
 },
 "nbformat": 4,
 "nbformat_minor": 2
}